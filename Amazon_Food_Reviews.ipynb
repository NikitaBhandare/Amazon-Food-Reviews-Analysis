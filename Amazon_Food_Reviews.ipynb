{
 "cells": [
  {
   "cell_type": "markdown",
   "metadata": {},
   "source": [
    "# Gawron Comments\n",
    "\n",
    "This looks fine.  I made some changes in a few places but all of these are in order to\n",
    "test on a small data set I had.  None of them are corrections."
   ]
  },
  {
   "cell_type": "markdown",
   "metadata": {
    "deletable": true,
    "editable": true
   },
   "source": [
    "                                Snetiment Analysis of Amazon Food Reviews"
   ]
  },
  {
   "cell_type": "markdown",
   "metadata": {
    "deletable": true,
    "editable": true
   },
   "source": [
    "Amazon Food review dataset is an open source dataset avaliable on Standford Network with 568420 reviews on food products. \n",
    "The dataset is avaliable in csv format. It has the information about the ratings for each product and the helpfulness parameters."
   ]
  },
  {
   "cell_type": "code",
   "execution_count": 11,
   "metadata": {
    "collapsed": false,
    "deletable": true,
    "editable": true
   },
   "outputs": [],
   "source": [
    "%matplotlib inline\n",
    "\n",
    "import sqlite3\n",
    "import pandas as pd\n",
    "import numpy as np\n",
    "import nltk\n",
    "import string\n",
    "import matplotlib.pyplot as plt\n",
    "import matplotlib as mpl\n",
    "import numpy as np\n",
    "\n",
    "from sklearn.model_selection import train_test_split\n",
    "from sklearn.metrics import confusion_matrix\n",
    "from sklearn import metrics\n",
    "from sklearn.metrics import roc_curve, auc\n",
    "from nltk.stem.porter import PorterStemmer"
   ]
  },
  {
   "cell_type": "code",
   "execution_count": 3,
   "metadata": {
    "collapsed": false,
    "deletable": true,
    "editable": true
   },
   "outputs": [],
   "source": [
    "#Reading a csv file into dataframe\n",
    "\n",
    "df = pd.read_csv(\"train_neg_pos.csv\")"
   ]
  },
  {
   "cell_type": "code",
   "execution_count": 5,
   "metadata": {
    "collapsed": false
   },
   "outputs": [
    {
     "data": {
      "text/plain": [
       "Index([u'sentiment', u'review'], dtype='object')"
      ]
     },
     "execution_count": 5,
     "metadata": {},
     "output_type": "execute_result"
    }
   ],
   "source": [
    "df.columns"
   ]
  },
  {
   "cell_type": "code",
   "execution_count": 6,
   "metadata": {
    "collapsed": false,
    "deletable": true,
    "editable": true
   },
   "outputs": [
    {
     "data": {
      "text/html": [
       "<div>\n",
       "<table border=\"1\" class=\"dataframe\">\n",
       "  <thead>\n",
       "    <tr style=\"text-align: right;\">\n",
       "      <th></th>\n",
       "      <th>sentiment</th>\n",
       "      <th>review</th>\n",
       "    </tr>\n",
       "  </thead>\n",
       "  <tbody>\n",
       "    <tr>\n",
       "      <th>0</th>\n",
       "      <td>neg</td>\n",
       "      <td>Good tea/cheap chest: The tea assortment in t...</td>\n",
       "    </tr>\n",
       "    <tr>\n",
       "      <th>1</th>\n",
       "      <td>pos</td>\n",
       "      <td>Good program with nice graphics: I was able t...</td>\n",
       "    </tr>\n",
       "    <tr>\n",
       "      <th>2</th>\n",
       "      <td>neg</td>\n",
       "      <td>bloody awful: sounds like a third world eleme...</td>\n",
       "    </tr>\n",
       "    <tr>\n",
       "      <th>3</th>\n",
       "      <td>pos</td>\n",
       "      <td>An interesting toy: I saw this toy in Delhi b...</td>\n",
       "    </tr>\n",
       "    <tr>\n",
       "      <th>4</th>\n",
       "      <td>pos</td>\n",
       "      <td>The best album I've ever heard: I can't under...</td>\n",
       "    </tr>\n",
       "  </tbody>\n",
       "</table>\n",
       "</div>"
      ],
      "text/plain": [
       "  sentiment                                             review\n",
       "0       neg   Good tea/cheap chest: The tea assortment in t...\n",
       "1       pos   Good program with nice graphics: I was able t...\n",
       "2       neg   bloody awful: sounds like a third world eleme...\n",
       "3       pos   An interesting toy: I saw this toy in Delhi b...\n",
       "4       pos   The best album I've ever heard: I can't under..."
      ]
     },
     "execution_count": 6,
     "metadata": {},
     "output_type": "execute_result"
    }
   ],
   "source": [
    "#Viewing the results for first few records\n",
    "\n",
    "#df[['Score', 'Summary']].head()\n",
    "df[['sentiment', 'review']].head()"
   ]
  },
  {
   "cell_type": "code",
   "execution_count": 7,
   "metadata": {
    "collapsed": false,
    "deletable": true,
    "editable": true
   },
   "outputs": [
    {
     "data": {
      "text/plain": [
       "20000"
      ]
     },
     "execution_count": 7,
     "metadata": {},
     "output_type": "execute_result"
    }
   ],
   "source": [
    "#Calculating the total number of records in the dataset\n",
    "# JMG I have changed the size of the training set to be much smaller JUST for code testing.\n",
    "nrows = len(df.index)\n",
    "nrows"
   ]
  },
  {
   "cell_type": "code",
   "execution_count": 56,
   "metadata": {
    "collapsed": false,
    "deletable": true,
    "editable": true
   },
   "outputs": [],
   "source": [
    "#Classifying the reviews as positive or negative bassed on the ratings provided by the users, Also calculating the usefulness\n",
    "#score bassed on the helppfulness parameters  \n",
    "\n",
    "df[\"Sentiment\"] = df[\"Score\"].apply(lambda score: \"positive\" if score > 3 else \"negative\")\n",
    "df[\"Usefulness\"] = (df[\"HelpfulnessNumerator\"]/df[\"HelpfulnessDenominator\"]).apply(lambda n: \"1\" if n > 0.8 else \"0\")"
   ]
  },
  {
   "cell_type": "code",
   "execution_count": 8,
   "metadata": {
    "collapsed": false,
    "deletable": true,
    "editable": true,
    "scrolled": false
   },
   "outputs": [
    {
     "data": {
      "text/plain": [
       "0    neg\n",
       "1    pos\n",
       "2    neg\n",
       "3    pos\n",
       "4    pos\n",
       "Name: sentiment, dtype: object"
      ]
     },
     "execution_count": 8,
     "metadata": {},
     "output_type": "execute_result"
    }
   ],
   "source": [
    "#Viewing the first few sentiments\n",
    "#\n",
    "df['sentiment'].head(5)"
   ]
  },
  {
   "cell_type": "markdown",
   "metadata": {},
   "source": [
    "#JMG testing code with new attribites"
   ]
  },
  {
   "cell_type": "code",
   "execution_count": 9,
   "metadata": {
    "collapsed": false,
    "deletable": true,
    "editable": true
   },
   "outputs": [
    {
     "data": {
      "text/html": [
       "<div>\n",
       "<table border=\"1\" class=\"dataframe\">\n",
       "  <thead>\n",
       "    <tr style=\"text-align: right;\">\n",
       "      <th></th>\n",
       "      <th>sentiment</th>\n",
       "      <th>review</th>\n",
       "    </tr>\n",
       "  </thead>\n",
       "  <tbody>\n",
       "    <tr>\n",
       "      <th>19993</th>\n",
       "      <td>neg</td>\n",
       "      <td>Teen Titan Tick-off: I got this for my son be...</td>\n",
       "    </tr>\n",
       "    <tr>\n",
       "      <th>19994</th>\n",
       "      <td>neg</td>\n",
       "      <td>Do not buy this Brand!!!: I was originally pl...</td>\n",
       "    </tr>\n",
       "    <tr>\n",
       "      <th>19995</th>\n",
       "      <td>neg</td>\n",
       "      <td>Stargate: Continuum: I didn't recieve the DVD...</td>\n",
       "    </tr>\n",
       "    <tr>\n",
       "      <th>19996</th>\n",
       "      <td>neg</td>\n",
       "      <td>Shakespeare: As we all have one time or anoth...</td>\n",
       "    </tr>\n",
       "    <tr>\n",
       "      <th>19998</th>\n",
       "      <td>neg</td>\n",
       "      <td>Very dissapointing: I've just received it as ...</td>\n",
       "    </tr>\n",
       "  </tbody>\n",
       "</table>\n",
       "</div>"
      ],
      "text/plain": [
       "      sentiment                                             review\n",
       "19993       neg   Teen Titan Tick-off: I got this for my son be...\n",
       "19994       neg   Do not buy this Brand!!!: I was originally pl...\n",
       "19995       neg   Stargate: Continuum: I didn't recieve the DVD...\n",
       "19996       neg   Shakespeare: As we all have one time or anoth...\n",
       "19998       neg   Very dissapointing: I've just received it as ..."
      ]
     },
     "execution_count": 9,
     "metadata": {},
     "output_type": "execute_result"
    }
   ],
   "source": [
    "df[df.sentiment == 'neg'].tail(5)"
   ]
  },
  {
   "cell_type": "code",
   "execution_count": 8,
   "metadata": {
    "collapsed": false,
    "deletable": true,
    "editable": true,
    "scrolled": true
   },
   "outputs": [
    {
     "data": {
      "text/html": [
       "<div>\n",
       "<table border=\"1\" class=\"dataframe\">\n",
       "  <thead>\n",
       "    <tr style=\"text-align: right;\">\n",
       "      <th></th>\n",
       "      <th>Id</th>\n",
       "      <th>ProductId</th>\n",
       "      <th>UserId</th>\n",
       "      <th>ProfileName</th>\n",
       "      <th>HelpfulnessNumerator</th>\n",
       "      <th>HelpfulnessDenominator</th>\n",
       "      <th>Score</th>\n",
       "      <th>Time</th>\n",
       "      <th>Summary</th>\n",
       "      <th>Text</th>\n",
       "      <th>Sentiment</th>\n",
       "      <th>Usefulness</th>\n",
       "    </tr>\n",
       "  </thead>\n",
       "  <tbody>\n",
       "    <tr>\n",
       "      <th>1</th>\n",
       "      <td>2</td>\n",
       "      <td>B00813GRG4</td>\n",
       "      <td>A1D87F6ZCVE5NK</td>\n",
       "      <td>dll pa</td>\n",
       "      <td>0</td>\n",
       "      <td>0</td>\n",
       "      <td>1</td>\n",
       "      <td>1346976000</td>\n",
       "      <td>Not as Advertised</td>\n",
       "      <td>Product arrived labeled as Jumbo Salted Peanut...</td>\n",
       "      <td>negative</td>\n",
       "      <td>useless</td>\n",
       "    </tr>\n",
       "    <tr>\n",
       "      <th>12</th>\n",
       "      <td>13</td>\n",
       "      <td>B0009XLVG0</td>\n",
       "      <td>A327PCT23YH90</td>\n",
       "      <td>LT</td>\n",
       "      <td>1</td>\n",
       "      <td>1</td>\n",
       "      <td>1</td>\n",
       "      <td>1339545600</td>\n",
       "      <td>My Cats Are Not Fans of the New Food</td>\n",
       "      <td>My cats have been happily eating Felidae Plati...</td>\n",
       "      <td>negative</td>\n",
       "      <td>useful</td>\n",
       "    </tr>\n",
       "    <tr>\n",
       "      <th>26</th>\n",
       "      <td>27</td>\n",
       "      <td>B001GVISJM</td>\n",
       "      <td>A3RXAU2N8KV45G</td>\n",
       "      <td>lady21</td>\n",
       "      <td>0</td>\n",
       "      <td>1</td>\n",
       "      <td>1</td>\n",
       "      <td>1332633600</td>\n",
       "      <td>Nasty No flavor</td>\n",
       "      <td>The candy is just red , No flavor . Just  plan...</td>\n",
       "      <td>negative</td>\n",
       "      <td>useless</td>\n",
       "    </tr>\n",
       "    <tr>\n",
       "      <th>50</th>\n",
       "      <td>51</td>\n",
       "      <td>B001EO5QW8</td>\n",
       "      <td>A108P30XVUFKXY</td>\n",
       "      <td>Roberto A</td>\n",
       "      <td>0</td>\n",
       "      <td>7</td>\n",
       "      <td>1</td>\n",
       "      <td>1203379200</td>\n",
       "      <td>DO not like it</td>\n",
       "      <td>This oatmeal is not good. Its mushy, soft, I D...</td>\n",
       "      <td>negative</td>\n",
       "      <td>useless</td>\n",
       "    </tr>\n",
       "    <tr>\n",
       "      <th>62</th>\n",
       "      <td>63</td>\n",
       "      <td>B001EO5TPM</td>\n",
       "      <td>A1E09XGZUR78C6</td>\n",
       "      <td>gary sturrock</td>\n",
       "      <td>2</td>\n",
       "      <td>2</td>\n",
       "      <td>1</td>\n",
       "      <td>1215302400</td>\n",
       "      <td>stale product.</td>\n",
       "      <td>Arrived in 6 days and were so stale i could no...</td>\n",
       "      <td>negative</td>\n",
       "      <td>useful</td>\n",
       "    </tr>\n",
       "    <tr>\n",
       "      <th>73</th>\n",
       "      <td>74</td>\n",
       "      <td>B0059WXJKM</td>\n",
       "      <td>A25VFHVGI4CFTP</td>\n",
       "      <td>Diana Robinson</td>\n",
       "      <td>0</td>\n",
       "      <td>1</td>\n",
       "      <td>1</td>\n",
       "      <td>1335744000</td>\n",
       "      <td>Warning!  WARNING!  -ALCOHOL SUGARS!</td>\n",
       "      <td>Buyer Beware Please! This sweetener is not for...</td>\n",
       "      <td>negative</td>\n",
       "      <td>useless</td>\n",
       "    </tr>\n",
       "    <tr>\n",
       "      <th>75</th>\n",
       "      <td>76</td>\n",
       "      <td>B001EPPI84</td>\n",
       "      <td>A27TZ4WBU7N0YF</td>\n",
       "      <td>I. So</td>\n",
       "      <td>0</td>\n",
       "      <td>0</td>\n",
       "      <td>1</td>\n",
       "      <td>1275004800</td>\n",
       "      <td>No Tea Flavor</td>\n",
       "      <td>No tea flavor at all. Just whole brunch of art...</td>\n",
       "      <td>negative</td>\n",
       "      <td>useless</td>\n",
       "    </tr>\n",
       "    <tr>\n",
       "      <th>99</th>\n",
       "      <td>100</td>\n",
       "      <td>B0019CW0HE</td>\n",
       "      <td>A2P6ACFZ8FTNVV</td>\n",
       "      <td>Melissa Benjamin</td>\n",
       "      <td>0</td>\n",
       "      <td>1</td>\n",
       "      <td>1</td>\n",
       "      <td>1331164800</td>\n",
       "      <td>Bad</td>\n",
       "      <td>I fed this to my Golden Retriever and he hated...</td>\n",
       "      <td>negative</td>\n",
       "      <td>useless</td>\n",
       "    </tr>\n",
       "    <tr>\n",
       "      <th>153</th>\n",
       "      <td>154</td>\n",
       "      <td>B002HQAXUW</td>\n",
       "      <td>A17ESTP5T7T1PH</td>\n",
       "      <td>Bumbeda1</td>\n",
       "      <td>1</td>\n",
       "      <td>1</td>\n",
       "      <td>1</td>\n",
       "      <td>1324944000</td>\n",
       "      <td>Rip off Price</td>\n",
       "      <td>These singles sell for $2.50 - $3.36 at the st...</td>\n",
       "      <td>negative</td>\n",
       "      <td>useful</td>\n",
       "    </tr>\n",
       "    <tr>\n",
       "      <th>164</th>\n",
       "      <td>165</td>\n",
       "      <td>B000ITVLE2</td>\n",
       "      <td>ARTBQH9WOZTIV</td>\n",
       "      <td>Billy Wilson \"amzrview\"</td>\n",
       "      <td>0</td>\n",
       "      <td>4</td>\n",
       "      <td>1</td>\n",
       "      <td>1269216000</td>\n",
       "      <td>Tasteless but low calorie</td>\n",
       "      <td>Seriously this product was as tasteless as the...</td>\n",
       "      <td>negative</td>\n",
       "      <td>useless</td>\n",
       "    </tr>\n",
       "  </tbody>\n",
       "</table>\n",
       "</div>"
      ],
      "text/plain": [
       "      Id   ProductId          UserId              ProfileName  \\\n",
       "1      2  B00813GRG4  A1D87F6ZCVE5NK                   dll pa   \n",
       "12    13  B0009XLVG0   A327PCT23YH90                       LT   \n",
       "26    27  B001GVISJM  A3RXAU2N8KV45G                   lady21   \n",
       "50    51  B001EO5QW8  A108P30XVUFKXY                Roberto A   \n",
       "62    63  B001EO5TPM  A1E09XGZUR78C6            gary sturrock   \n",
       "73    74  B0059WXJKM  A25VFHVGI4CFTP           Diana Robinson   \n",
       "75    76  B001EPPI84  A27TZ4WBU7N0YF                    I. So   \n",
       "99   100  B0019CW0HE  A2P6ACFZ8FTNVV         Melissa Benjamin   \n",
       "153  154  B002HQAXUW  A17ESTP5T7T1PH                 Bumbeda1   \n",
       "164  165  B000ITVLE2   ARTBQH9WOZTIV  Billy Wilson \"amzrview\"   \n",
       "\n",
       "     HelpfulnessNumerator  HelpfulnessDenominator  Score        Time  \\\n",
       "1                       0                       0      1  1346976000   \n",
       "12                      1                       1      1  1339545600   \n",
       "26                      0                       1      1  1332633600   \n",
       "50                      0                       7      1  1203379200   \n",
       "62                      2                       2      1  1215302400   \n",
       "73                      0                       1      1  1335744000   \n",
       "75                      0                       0      1  1275004800   \n",
       "99                      0                       1      1  1331164800   \n",
       "153                     1                       1      1  1324944000   \n",
       "164                     0                       4      1  1269216000   \n",
       "\n",
       "                                  Summary  \\\n",
       "1                       Not as Advertised   \n",
       "12   My Cats Are Not Fans of the New Food   \n",
       "26                        Nasty No flavor   \n",
       "50                         DO not like it   \n",
       "62                         stale product.   \n",
       "73   Warning!  WARNING!  -ALCOHOL SUGARS!   \n",
       "75                          No Tea Flavor   \n",
       "99                                    Bad   \n",
       "153                         Rip off Price   \n",
       "164             Tasteless but low calorie   \n",
       "\n",
       "                                                  Text Sentiment Usefulness  \n",
       "1    Product arrived labeled as Jumbo Salted Peanut...  negative    useless  \n",
       "12   My cats have been happily eating Felidae Plati...  negative     useful  \n",
       "26   The candy is just red , No flavor . Just  plan...  negative    useless  \n",
       "50   This oatmeal is not good. Its mushy, soft, I D...  negative    useless  \n",
       "62   Arrived in 6 days and were so stale i could no...  negative     useful  \n",
       "73   Buyer Beware Please! This sweetener is not for...  negative    useless  \n",
       "75   No tea flavor at all. Just whole brunch of art...  negative    useless  \n",
       "99   I fed this to my Golden Retriever and he hated...  negative    useless  \n",
       "153  These singles sell for $2.50 - $3.36 at the st...  negative     useful  \n",
       "164  Seriously this product was as tasteless as the...  negative    useless  "
      ]
     },
     "execution_count": 8,
     "metadata": {},
     "output_type": "execute_result"
    }
   ],
   "source": [
    "df[df.Score == 1].head(10)"
   ]
  },
  {
   "cell_type": "markdown",
   "metadata": {},
   "source": [
    "JMG Had to edit the next cell to work, correct import in following cell"
   ]
  },
  {
   "cell_type": "code",
   "execution_count": 14,
   "metadata": {
    "collapsed": false,
    "deletable": true,
    "editable": true
   },
   "outputs": [
    {
     "name": "stdout",
     "output_type": "stream",
     "text": [
      "  (0, 17723)\t0.06020801232\n",
      "  (0, 39758)\t0.330479754368\n",
      "  (0, 7515)\t0.121253402513\n",
      "  (0, 7614)\t0.542098205725\n",
      "  (0, 40151)\t0.133955632426\n",
      "  (0, 3471)\t0.212534867157\n",
      "  (0, 20462)\t0.0390444890953\n",
      "  (0, 21575)\t0.0682848543586\n",
      "  (0, 14666)\t0.0994300574214\n",
      "  (0, 43172)\t0.229229828746\n",
      "  (0, 39705)\t0.193003014196\n",
      "  (0, 19783)\t0.0954826974339\n",
      "  (0, 43148)\t0.060468401216\n",
      "  (0, 30515)\t0.132062164526\n",
      "  (0, 31842)\t0.0931489207158\n",
      "  (0, 40799)\t0.112601465939\n",
      "  (0, 2989)\t0.245924790336\n",
      "  (0, 24905)\t0.124841819521\n",
      "  (0, 12467)\t0.0848908933031\n",
      "  (0, 27474)\t0.0903599967838\n",
      "  (0, 23631)\t0.115635122699\n",
      "  (0, 42642)\t0.0676753799055\n",
      "  (0, 2572)\t0.0290495835644\n",
      "  (0, 40246)\t0.0680087262145\n",
      "  (0, 3129)\t0.053085516426\n",
      "  :\t:\n",
      "  (19999, 40151)\t0.0520051803671\n",
      "  (19999, 28050)\t0.0920679681125\n",
      "  (19999, 44433)\t0.0906778510834\n",
      "  (19999, 27883)\t0.128630211948\n",
      "  (19999, 21637)\t0.0628708497696\n",
      "  (19999, 28231)\t0.124155827815\n",
      "  (19999, 17332)\t0.132729009881\n",
      "  (19999, 45055)\t0.18859040894\n",
      "  (19999, 43785)\t0.199771562195\n",
      "  (19999, 27888)\t0.170455882933\n",
      "  (19999, 32468)\t0.141129872185\n",
      "  (19999, 26424)\t0.146336288396\n",
      "  (19999, 12535)\t0.137982866501\n",
      "  (19999, 18023)\t0.117856174801\n",
      "  (19999, 24014)\t0.18691103861\n",
      "  (19999, 1507)\t0.224150593373\n",
      "  (19999, 40710)\t0.287131213964\n",
      "  (19999, 37196)\t0.182702607206\n",
      "  (19999, 22363)\t0.252959549379\n",
      "  (19999, 5604)\t0.278740405669\n",
      "  (19999, 2362)\t0.201021734486\n",
      "  (19999, 18640)\t0.310484388296\n",
      "  (19999, 13360)\t0.289173182944\n",
      "  (19999, 41220)\t0.308549478054\n",
      "  (19999, 28804)\t0.299920095721\n"
     ]
    }
   ],
   "source": [
    "from sklearn.feature_extraction import text \n",
    "tf = text.TfidfVectorizer()\n",
    "X = tf.fit_transform(df['review'])\n",
    "print(X)"
   ]
  },
  {
   "cell_type": "code",
   "execution_count": 16,
   "metadata": {
    "collapsed": false,
    "deletable": true,
    "editable": true
   },
   "outputs": [
    {
     "name": "stdout",
     "output_type": "stream",
     "text": [
      "16000 items in training data, 4000 in test data\n"
     ]
    }
   ],
   "source": [
    "#Cleaning the summary, removing the punctuations\n",
    "\n",
    "from sklearn.feature_extraction.text import CountVectorizer, TfidfTransformer\n",
    "\n",
    "import re\n",
    "import string\n",
    "import nltk\n",
    "\n",
    "cleanup_re = re.compile('[^a-z]+')\n",
    "def cleanup(sentence):\n",
    "    sentence = sentence.lower()\n",
    "    sentence = cleanup_re.sub(' ', sentence).strip()\n",
    "    return sentence\n",
    "\n",
    "df['Summary_Clean'] = df['review'].apply(cleanup)\n",
    "\n",
    "train, test = train_test_split(df, test_size=0.2)\n",
    "print(\"%d items in training data, %d in test data\" % (len(train), len(test)))"
   ]
  },
  {
   "cell_type": "code",
   "execution_count": 17,
   "metadata": {
    "collapsed": false,
    "deletable": true,
    "editable": true
   },
   "outputs": [],
   "source": [
    "#Creating test and train vectors\n",
    "\n",
    "count_vect = CountVectorizer(min_df = 1, ngram_range = (1, 4))\n",
    "X_train_counts = count_vect.fit_transform(train[\"Summary_Clean\"])\n",
    "\n",
    "tfidf_transformer = TfidfTransformer()\n",
    "X_train_tfidf = tfidf_transformer.fit_transform(X_train_counts)\n",
    "\n",
    "X_new_counts = count_vect.transform(test[\"Summary_Clean\"])\n",
    "X_test_tfidf = tfidf_transformer.transform(X_new_counts)\n",
    "\n",
    "y_train = train[\"sentiment\"]\n",
    "y_test = test[\"sentiment\"]"
   ]
  },
  {
   "cell_type": "code",
   "execution_count": 18,
   "metadata": {
    "collapsed": true,
    "deletable": true,
    "editable": true
   },
   "outputs": [],
   "source": [
    "prediction1 = dict()"
   ]
  },
  {
   "cell_type": "code",
   "execution_count": 19,
   "metadata": {
    "collapsed": false,
    "deletable": true,
    "editable": true
   },
   "outputs": [],
   "source": [
    "#Applying Multinomial Naive Bayes learning method\n",
    "\n",
    "from sklearn.naive_bayes import MultinomialNB\n",
    "model_mnb = MultinomialNB().fit(X_train_tfidf, y_train)\n",
    "prediction1['Multinomial'] = model_mnb.predict(X_test_tfidf)\n",
    "\n"
   ]
  },
  {
   "cell_type": "code",
   "execution_count": 20,
   "metadata": {
    "collapsed": true,
    "deletable": true,
    "editable": true
   },
   "outputs": [],
   "source": [
    "#Applying Bernoulli Naive Bayes learning method\n",
    "\n",
    "from sklearn.naive_bayes import BernoulliNB\n",
    "model_bnb = BernoulliNB().fit(X_train_tfidf, y_train)\n",
    "prediction1['Bernoulli'] = model_bnb.predict(X_test_tfidf)\n"
   ]
  },
  {
   "cell_type": "markdown",
   "metadata": {},
   "source": [
    "JMG: Far and away the slowest"
   ]
  },
  {
   "cell_type": "code",
   "execution_count": 21,
   "metadata": {
    "collapsed": true,
    "deletable": true,
    "editable": true
   },
   "outputs": [],
   "source": [
    "#Applying Logistic Regression method\n",
    "\n",
    "from sklearn.linear_model import LogisticRegression\n",
    "logreg = LogisticRegression(C=1e5)\n",
    "logreg_result = logreg.fit(X_train_tfidf, y_train)\n",
    "prediction1['Logistic'] = logreg.predict(X_test_tfidf)"
   ]
  },
  {
   "cell_type": "code",
   "execution_count": 22,
   "metadata": {
    "collapsed": false,
    "deletable": true,
    "editable": true
   },
   "outputs": [],
   "source": [
    "#Applying Support vector machine method\n",
    "\n",
    "from sklearn.svm import LinearSVC, SVC\n",
    "svm_total = 0\n",
    "\n",
    "svm = LinearSVC(C=1e5)\n",
    "model_svm = svm.fit(X_train_tfidf, y_train)\n",
    "prediction1['svm'] = model_svm.predict(X_test_tfidf)\n",
    "\n",
    "svm_score = svm.score(X_test_tfidf, y_test)\n",
    "svm_total +=svm_score"
   ]
  },
  {
   "cell_type": "code",
   "execution_count": 24,
   "metadata": {
    "collapsed": false,
    "deletable": true,
    "editable": true
   },
   "outputs": [
    {
     "data": {
      "image/png": "[encoded data removed]",
      "text/plain": [
       "<matplotlib.figure.Figure at 0x118887290>"
      ]
     },
     "metadata": {},
     "output_type": "display_data"
    }
   ],
   "source": [
    "#ROC Curve\n",
    "\n",
    "# JMG edited\n",
    "def formatt(x):\n",
    "    if x == 'neg':\n",
    "        return 0\n",
    "    return 1\n",
    "vfunc = np.vectorize(formatt)\n",
    "\n",
    "cmp = 0\n",
    "colors = ['b', 'g', 'y', 'm', 'k']\n",
    "for model, predicted in prediction1.items():\n",
    "    false_positive_rate, true_positive_rate, thresholds = roc_curve(y_test.map(formatt), vfunc(predicted))\n",
    "    roc_auc = auc(false_positive_rate, true_positive_rate)\n",
    "    plt.plot(false_positive_rate, true_positive_rate, colors[cmp], label='%s: AUC %0.2f'% (model,roc_auc))\n",
    "    cmp += 1\n",
    "\n",
    "plt.title('Classifiers comparaison with ROC')\n",
    "plt.legend(loc='lower right')\n",
    "plt.plot([0,1],[0,1],'r--')\n",
    "plt.xlim([-0.1,1.2])\n",
    "plt.ylim([-0.1,1.2])\n",
    "plt.ylabel('True Positive Rate')\n",
    "plt.xlabel('False Positive Rate')\n",
    "plt.show()"
   ]
  },
  {
   "cell_type": "code",
   "execution_count": 110,
   "metadata": {
    "collapsed": false,
    "deletable": true,
    "editable": true
   },
   "outputs": [
    {
     "name": "stdout",
     "output_type": "stream",
     "text": [
      "             precision    recall  f1-score   support\n",
      "\n",
      "   positive       0.87      0.82      0.84     24691\n",
      "   negative       0.95      0.97      0.96     88993\n",
      "\n",
      "avg / total       0.93      0.93      0.93    113684\n",
      "\n"
     ]
    }
   ],
   "source": [
    "print(metrics.classification_report(y_test, prediction['svm'], target_names = [\"positive\", \"negative\"]))"
   ]
  },
  {
   "cell_type": "code",
   "execution_count": 111,
   "metadata": {
    "collapsed": false,
    "deletable": true,
    "editable": true
   },
   "outputs": [
    {
     "data": {
      "image/png": "[encoded data removed]",
      "text/plain": [
       "<matplotlib.figure.Figure at 0x333a5f98>"
      ]
     },
     "metadata": {},
     "output_type": "display_data"
    },
    {
     "data": {
      "image/png": "[encoded data removed]",
      "text/plain": [
       "<matplotlib.figure.Figure at 0x31d19a90>"
      ]
     },
     "metadata": {},
     "output_type": "display_data"
    }
   ],
   "source": [
    "#Confusion Matrix\n",
    "\n",
    "def plot_confusion_matrix(cm, title='Confusion matrix', cmap=plt.cm.Greens, labels=[\"positive\", \"negative\"]):\n",
    "    plt.imshow(cm, interpolation='nearest', cmap=cmap)\n",
    "    plt.title(title)\n",
    "    plt.colorbar()\n",
    "    tick_marks = np.arange(len(labels))\n",
    "    plt.xticks(tick_marks, labels, rotation=45)\n",
    "    plt.yticks(tick_marks, labels)\n",
    "    plt.tight_layout()\n",
    "    plt.ylabel('True label')\n",
    "    plt.xlabel('Predicted label')\n",
    "    \n",
    "# Compute confusion matrix\n",
    "cm = confusion_matrix(y_test, prediction['svm'])\n",
    "np.set_printoptions(precision=2)\n",
    "\n",
    "plt.figure()\n",
    "plot_confusion_matrix(cm)    \n",
    "\n",
    "cm_normalized = cm.astype('float') / cm.sum(axis=1)[:, np.newaxis]\n",
    "plt.figure()\n",
    "plot_confusion_matrix(cm_normalized, title='Normalized confusion matrix')\n",
    "plt.show()"
   ]
  },
  {
   "cell_type": "code",
   "execution_count": 113,
   "metadata": {
    "collapsed": false,
    "deletable": true,
    "editable": true
   },
   "outputs": [
    {
     "data": {
      "text/html": [
       "<div>\n",
       "<table border=\"1\" class=\"dataframe\">\n",
       "  <thead>\n",
       "    <tr style=\"text-align: right;\">\n",
       "      <th></th>\n",
       "      <th>feature</th>\n",
       "      <th>coefficient</th>\n",
       "    </tr>\n",
       "  </thead>\n",
       "  <tbody>\n",
       "    <tr>\n",
       "      <th>1054535</th>\n",
       "      <td>worst</td>\n",
       "      <td>-29.323069</td>\n",
       "    </tr>\n",
       "    <tr>\n",
       "      <th>637077</th>\n",
       "      <td>not</td>\n",
       "      <td>-24.461263</td>\n",
       "    </tr>\n",
       "    <tr>\n",
       "      <th>1071954</th>\n",
       "      <td>yuck</td>\n",
       "      <td>-20.209363</td>\n",
       "    </tr>\n",
       "    <tr>\n",
       "      <th>895610</th>\n",
       "      <td>terrible</td>\n",
       "      <td>-19.709577</td>\n",
       "    </tr>\n",
       "    <tr>\n",
       "      <th>456478</th>\n",
       "      <td>horrible</td>\n",
       "      <td>-19.560111</td>\n",
       "    </tr>\n",
       "  </tbody>\n",
       "</table>\n",
       "</div>"
      ],
      "text/plain": [
       "          feature  coefficient\n",
       "1054535     worst   -29.323069\n",
       "637077        not   -24.461263\n",
       "1071954      yuck   -20.209363\n",
       "895610   terrible   -19.709577\n",
       "456478   horrible   -19.560111"
      ]
     },
     "execution_count": 113,
     "metadata": {},
     "output_type": "execute_result"
    }
   ],
   "source": [
    "#Calculating the features for logistic regression\n",
    "\n",
    "words = count_vect.get_feature_names()\n",
    "feature_coefs = pd.DataFrame(\n",
    "    data = list(zip(words, logreg_result.coef_[0])),\n",
    "    columns = ['feature', 'coefficient'])\n",
    "\n",
    "feature_coefs.sort_values(by='coefficient').head(5)"
   ]
  },
  {
   "cell_type": "code",
   "execution_count": 114,
   "metadata": {
    "collapsed": false,
    "deletable": true,
    "editable": true
   },
   "outputs": [
    {
     "data": {
      "text/html": [
       "<div>\n",
       "<table border=\"1\" class=\"dataframe\">\n",
       "  <thead>\n",
       "    <tr style=\"text-align: right;\">\n",
       "      <th></th>\n",
       "      <th>feature</th>\n",
       "      <th>coefficient</th>\n",
       "    </tr>\n",
       "  </thead>\n",
       "  <tbody>\n",
       "    <tr>\n",
       "      <th>644908</th>\n",
       "      <td>not like the packaging</td>\n",
       "      <td>-11.783680</td>\n",
       "    </tr>\n",
       "    <tr>\n",
       "      <th>949677</th>\n",
       "      <td>this product but do</td>\n",
       "      <td>-9.825702</td>\n",
       "    </tr>\n",
       "    <tr>\n",
       "      <th>881415</th>\n",
       "      <td>tastes really good but</td>\n",
       "      <td>-9.314004</td>\n",
       "    </tr>\n",
       "    <tr>\n",
       "      <th>137703</th>\n",
       "      <td>but not as advertised</td>\n",
       "      <td>-9.108492</td>\n",
       "    </tr>\n",
       "    <tr>\n",
       "      <th>142184</th>\n",
       "      <td>but the price has</td>\n",
       "      <td>-8.953503</td>\n",
       "    </tr>\n",
       "  </tbody>\n",
       "</table>\n",
       "</div>"
      ],
      "text/plain": [
       "                       feature  coefficient\n",
       "644908  not like the packaging   -11.783680\n",
       "949677     this product but do    -9.825702\n",
       "881415  tastes really good but    -9.314004\n",
       "137703   but not as advertised    -9.108492\n",
       "142184       but the price has    -8.953503"
      ]
     },
     "execution_count": 114,
     "metadata": {},
     "output_type": "execute_result"
    }
   ],
   "source": [
    "#Calculating the features for support vector machine\n",
    "\n",
    "words = count_vect.get_feature_names()\n",
    "feature_coefs = pd.DataFrame(\n",
    "    data = list(zip(words, model_svm.coef_[0])),\n",
    "    columns = ['feature', 'coefficient'])\n",
    "\n",
    "feature_coefs.sort_values(by='coefficient').head(5)"
   ]
  },
  {
   "cell_type": "code",
   "execution_count": 105,
   "metadata": {
    "collapsed": false,
    "deletable": true,
    "editable": true
   },
   "outputs": [
    {
     "name": "stdout",
     "output_type": "stream",
     "text": [
      "Sentence Classified as POSITIVE: negative prob 0.031836, positive prob 0.968164\n",
      "Sentence Classified as NEGATIVE: negative prob 0.999766, positive prob 0.000234\n",
      "Sentence Classified as NEGATIVE: negative prob 0.876407, positive prob 0.123593\n"
     ]
    }
   ],
   "source": [
    "# Test the model on the test data.\n",
    "\n",
    "def test_sample(model, sample):\n",
    "    sample_counts = count_vect.transform([sample])\n",
    "    sample_tfidf = tfidf_transformer.transform(sample_counts)\n",
    "    result = model.predict(sample_tfidf)[0]\n",
    "    prob = model.predict_proba(sample_tfidf)[0]\n",
    "    print(\"Sentence Classified as %s: negative prob %f, positive prob %f\" % (result.upper(), prob[0], prob[1]))\n",
    "\n",
    "test_sample(logreg, \"The food was delicious, it smelled great and the taste was awesome\")\n",
    "test_sample(logreg, \"The whole experience was horrible. The smell was so bad that it literally made me sick.\")\n",
    "test_sample(logreg, \"The food was ok, I guess. The smell wasn't very good, but the taste was ok.\")"
   ]
  },
  {
   "cell_type": "markdown",
   "metadata": {
    "deletable": true,
    "editable": true
   },
   "source": [
    "I was facing an error for calculating the class probabilities for SVM so i calculated them for Logistic regression as the \n",
    "accuracy of logistic regression and SVM is similar.\n",
    "\n",
    "From above observations we can clearly understand that Logistic regression performed much better in classifying the reviews \n",
    "than Bernoulli's classifier. \n",
    "The variability explained by SVM is 88% whereas that explained by Bernnoulli is 70%. \n",
    "The variability explained by Logistic Regression is 88% whereas that explained by Bernnoulli is 70%. \n",
    "\n",
    "Also,as per the logistic regression result the comment \"The food was delicious, it smelled great and the taste was awesome\"\n",
    "was correctly classified as a positive review. \n",
    "\n",
    "Thus the accuracy of SVM for the provided list of comments was 100%."
   ]
  }
 ],
 "metadata": {
  "kernelspec": {
   "display_name": "Python 2",
   "language": "python",
   "name": "python2"
  },
  "language_info": {
   "codemirror_mode": {
    "name": "ipython",
    "version": 2
   },
   "file_extension": ".py",
   "mimetype": "text/x-python",
   "name": "python",
   "nbconvert_exporter": "python",
   "pygments_lexer": "ipython2",
   "version": "2.7.13"
  },
  "toc": {
   "colors": {
    "hover_highlight": "#DAA520",
    "running_highlight": "#FF0000",
    "selected_highlight": "#FFD700"
   },
   "moveMenuLeft": true,
   "nav_menu": {
    "height": "243px",
    "width": "252px"
   },
   "navigate_menu": true,
   "number_sections": true,
   "sideBar": true,
   "threshold": 4,
   "toc_cell": false,
   "toc_section_display": "block",
   "toc_window_display": false,
   "widenNotebook": false
  }
 },
 "nbformat": 4,
 "nbformat_minor": 0
}
